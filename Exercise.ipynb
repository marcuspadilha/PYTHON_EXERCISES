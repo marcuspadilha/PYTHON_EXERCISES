{
 "cells": [
  {
   "cell_type": "markdown",
   "metadata": {},
   "source": [
    "<center>\n",
    "    <img src=\"https://s3-api.us-geo.objectstorage.softlayer.net/cf-courses-data/CognitiveClass/Logos/organization_logo/organization_logo.png\" width=\"300\" alt=\"cognitiveclass.ai logo\"  />\n",
    "</center>\n"
   ]
  },
  {
   "cell_type": "markdown",
   "metadata": {},
   "source": [
    "# My Jupyter Notebook"
   ]
  },
  {
   "cell_type": "markdown",
   "metadata": {},
   "source": [
    "**Marcus Padilha**"
   ]
  },
  {
   "cell_type": "markdown",
   "metadata": {},
   "source": [
    "*I'm interested in data science because that area is very interesting ans profitable.*"
   ]
  },
  {
   "cell_type": "markdown",
   "metadata": {},
   "source": [
    "### The folowing equation returns a euclidian distance of two points in a bidimensional plane."
   ]
  },
  {
   "cell_type": "code",
   "execution_count": 19,
   "metadata": {
    "tags": []
   },
   "outputs": [
    {
     "name": "stdin",
     "output_type": "stream",
     "text": [
      "Input the the x coordinate of the first point:  3\n",
      "Input the the y coordinate of the first point:  6\n",
      "Input the the x coordinate of the second point:  9\n",
      "Input the the y coordinate of the second point:  0\n"
     ]
    },
    {
     "name": "stdout",
     "output_type": "stream",
     "text": [
      "The euclidian distance is 8.48528137423857.\n"
     ]
    }
   ],
   "source": [
    "x1 = float(input(\"Input the the x coordinate of the first point: \"))\n",
    "y1 = float(input(\"Input the the y coordinate of the first point: \"))\n",
    "x2 = float(input(\"Input the the x coordinate of the second point: \"))\n",
    "y2 = float(input(\"Input the the y coordinate of the second point: \"))\n",
    "ed = ((x2-x1)**2+(y2-y1)**2)**0.5\n",
    "print(f\"The euclidian distance is {ed}.\")"
   ]
  },
  {
   "cell_type": "markdown",
   "metadata": {},
   "source": [
    "*** \n",
    "`This is an text of test.`\n",
    "***"
   ]
  },
  {
   "cell_type": "markdown",
   "metadata": {},
   "source": [
    "The IBM website can be found at <a href=\"https://www.ibm.com\" target=\"_blank\">this link</a>."
   ]
  }
 ],
 "metadata": {
  "kernelspec": {
   "display_name": "Python",
   "language": "python",
   "name": "conda-env-python-py"
  },
  "language_info": {
   "codemirror_mode": {
    "name": "ipython",
    "version": 3
   },
   "file_extension": ".py",
   "mimetype": "text/x-python",
   "name": "python",
   "nbconvert_exporter": "python",
   "pygments_lexer": "ipython3",
   "version": "3.7.12"
  }
 },
 "nbformat": 4,
 "nbformat_minor": 4
}
